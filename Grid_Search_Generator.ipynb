{
 "cells": [
  {
   "cell_type": "code",
   "execution_count": 2,
   "metadata": {
    "collapsed": true
   },
   "outputs": [],
   "source": [
    "import pandas as pd\n",
    "import numpy as np"
   ]
  },
  {
   "cell_type": "code",
   "execution_count": 6,
   "metadata": {
    "collapsed": false
   },
   "outputs": [],
   "source": [
    "replay_capacities=[100000, 1000000]\n",
    "batch_sizes=[256, 512, 1024]\n",
    "seed_braids=seed_braids=[[1],\n",
    "                         [1, 1], \n",
    "                         [1, -1, 1], \n",
    "                         [1, -1, 1, -1, 1, -1, 1], \n",
    "                         [1, -2, 2], [1, 2, -2], \n",
    "                         [1, 1, 1], \n",
    "                         [1, -2, 1, 2, 1], \n",
    "                         [1, -3, 3, 1, 1], \n",
    "                         [1, -2, 1, -2], \n",
    "                         [1, -2, 1, -2, 1, -1], \n",
    "                         [1, 1, 1, 1, 1], \n",
    "                         [1, 1, 1, 2, -1, 2], \n",
    "                         [1, 1, -2, 1, -2, -2], \n",
    "                         [1, 1, 1, -2, 1, -2]]\n",
    "start_states_capacities=[100000, 1000000]\n",
    "max_braid_index=6\n",
    "max_braid_length=10\n",
    "\n",
    "uniforms=[True, False]\n",
    "action_probabilities=[0.1, 0.3]\n",
    "move_penalty=0.1\n",
    "seed_probs=[0.1, 0.5]\n",
    "\n",
    "\n",
    "#Double Dueling DQN\n",
    "output_size=13 #should be the number of actions the agent can take in the MDP\n",
    "architectures_list = [{'Hidden': (512, 512, 512), 'Value': (512, 1),'Advantage': (512, 13)},\n",
    "                      {'Hidden': (1024, 1024, 1024), 'Value': (1024, 1),'Advantage': (1024, 13)},\n",
    "                      {'Hidden': (2048, 2048, 2048), 'Value': (2048, 1),'Advantage': (2048, 13)}]\n",
    "                      \n",
    "\n",
    "transfer_rates=[2000, 10000] #how often (in epochs) to copy weights from online network to target network\n",
    "gamma=0.99\n",
    "learning_rates=[0.00000003, 0.000000001, 0.0000000003, 0.000000001]\n",
    "\n",
    "#Training\n",
    "euler_char_reset=-8 #algorithm will initialize state if any eulerchar falls below euler_char_reset\n",
    "max_actions_length=40 #initialize_state() is called if an episode takes more actions than max_actions_length\n",
    "\n",
    "#epsilon parameters to linearly decrease epsilon from start_epsilon to final_epsilon over\n",
    "#num_decrease_epochs. If a model is loaded (i.e. load_stuff=True), epsilon wil be the\n",
    "#final_epsilon and will not change.\n",
    "start_epsilon=1\n",
    "final_epsilons=[0.05, 0.1, 0.5]\n",
    "num_decrease_epochs=250000\n",
    "\n",
    "store_rate=1000 #how often (in epochs) to store values for matplotlib lists\n",
    "report_policy_rate=1000 #how often (in epochs) to report the policies\n",
    "num_epochs=1000000 #how many epochs to run the algorithm for\n",
    "moves_per_epoch_list=[4, 1000]"
   ]
  },
  {
   "cell_type": "code",
   "execution_count": null,
   "metadata": {
    "collapsed": true
   },
   "outputs": [],
   "source": [
    "columns=[\"load_stuff\", \"job_name\", \"replay_capacity\", \"batch_size\", \"seed_braids\", \"start_states_capacity\", \"max_braid_index\",\n",
    "         \"max_braid_length\", \"uniform\", \"action_probabilities\", \"move_penalty\", \"seed_prob\", \"output_size\", \"architextures\",\n",
    "         \"transfer_rate\", \"gamma\", \"learning_rate\", \"euler_char_reset\", \"max_actions_length\", \"start_epsilon\", \"final_epsilon\",\n",
    "         \"num_decrease_epcohs\", \"store_rate\", \"report_policy_rate\", \"num_epochs\", \"moves_per_epoch\"]\n",
    "load_stuff=False\n",
    "job_name=\"SliceEnv_try_\"\n",
    "i=0\n",
    "for replay_capacity in replay_capacities:\n",
    "    for batch_size in batch_sizes:\n",
    "        for start_state_capcity in start_states_capacities:\n",
    "            for uniform in uniforms:\n",
    "                for seed_prob in seed_probs:\n",
    "                    for architextures in architectures_list:\n",
    "                        for transfer_rate in transfer_rates:\n",
    "                            for learning_rate in learning_rates:\n",
    "                                for final_epsilon in final_epsilons:\n",
    "                                    for moves_per_epoch in moves_per_epoch_list:\n",
    "                                        vals=[load_stuff,\n",
    "                                              job_name+str(i),\n",
    "                                              replay_capacity,\n",
    "                                              batch_size,\n",
    "                                              seed_braids\n",
    "                                              start_state_capcity,\n",
    "                                              max_braid_index,\n",
    "                                              max_braid_length,\n",
    "                                              uniform,\n",
    "                                              action_probabilities,\n",
    "                                              move_penalty,\n",
    "                                              seed_prob,\n",
    "                                              output_size,\n",
    "                                              architextures,\n",
    "                                              transfer_rate,\n",
    "                                              gamma,\n",
    "                                              learning_rate,\n",
    "                                              euler_char_reset,\n",
    "                                              max_actions_length,\n",
    "                                              start_epsilon,\n",
    "                                              final_epsilon,\n",
    "                                              num_decrease_epochs,\n",
    "                                              store_rate,\n",
    "                                              report_policy_rate\n",
    "                                             ]\n",
    "                                        row=dict(zip(columns, ))\n",
    "                                                    "
   ]
  }
 ],
 "metadata": {
  "kernelspec": {
   "display_name": "Python 3",
   "language": "python",
   "name": "python3"
  },
  "language_info": {
   "codemirror_mode": {
    "name": "ipython",
    "version": 3
   },
   "file_extension": ".py",
   "mimetype": "text/x-python",
   "name": "python",
   "nbconvert_exporter": "python",
   "pygments_lexer": "ipython3",
   "version": "3.6.0"
  }
 },
 "nbformat": 4,
 "nbformat_minor": 2
}
