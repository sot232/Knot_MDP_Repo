{
 "cells": [
  {
   "cell_type": "code",
   "execution_count": 14,
   "metadata": {
    "collapsed": false
   },
   "outputs": [],
   "source": [
    "from SliceEnvironment import SliceEnv as SE\n",
    "from Start_States_Buffer import Start_States_Buffer as SSB\n",
    "from Start_States_Buffer2 import Start_States_Buffer as SSB2\n",
    "import timeit\n",
    "import numpy as np"
   ]
  },
  {
   "cell_type": "code",
   "execution_count": 30,
   "metadata": {
    "collapsed": false
   },
   "outputs": [
    {
     "name": "stdout",
     "output_type": "stream",
     "text": [
      "Braid word:\t\t [ 1  1 -2  2]\n",
      "Component list:\t\t [1 2 3 4 5 6]\n",
      "Euler characteristics:\t {1: 0, 2: 1, 3: 1, 4: 1, 5: 1, 6: 1}\n",
      "Score:\t\t\t 0\n",
      "Cursor:\t\t\t [0 1]\n",
      "Is Terminal:\t\t False\n",
      "  ↓\n",
      " | | | | | | \n",
      "→ /  | | | | \n",
      "  /  | | | | \n",
      " |  \\  | | | \n",
      " |  /  | | | \n",
      " | | | | | | \n"
     ]
    }
   ],
   "source": [
    "braid=SE(braid_word=[1, 1, -2, 2], max_braid_index=6, max_braid_length=10)\n",
    "braid.info()\n",
    "braid.print_braid()"
   ]
  },
  {
   "cell_type": "code",
   "execution_count": 31,
   "metadata": {
    "collapsed": false
   },
   "outputs": [
    {
     "name": "stdout",
     "output_type": "stream",
     "text": [
      "Braid word:\t\t [ 1  1 -2  2]\n",
      "Component list:\t\t [1 2 3 4 5 6]\n",
      "Euler characteristics:\t {1: 0, 2: 1, 3: 1, 4: 1, 5: 1, 6: 1}\n",
      "Score:\t\t\t 0\n",
      "Cursor:\t\t\t [0 2]\n",
      "Is Terminal:\t\t False\n",
      "    ↓\n",
      " | | | | | | \n",
      "→ /  | | | | \n",
      "  /  | | | | \n",
      " |  \\  | | | \n",
      " |  /  | | | \n",
      " | | | | | | \n"
     ]
    }
   ],
   "source": [
    "braid.action(4)\n",
    "braid.info()\n",
    "braid.print_braid()"
   ]
  },
  {
   "cell_type": "code",
   "execution_count": 32,
   "metadata": {
    "collapsed": false
   },
   "outputs": [
    {
     "name": "stdout",
     "output_type": "stream",
     "text": [
      "====================================================================================================\n",
      "State Encoding\n",
      "Braid word:\t\t [ 1  1 -2  2]\n",
      "Component list:\t\t [1 2 3 4 5 6]\n",
      "Euler characteristics:\t {1: 0, 2: 1, 3: 1, 4: 1, 5: 1, 6: 1}\n",
      "Score:\t\t\t 0\n",
      "Cursor:\t\t\t [0 2]\n",
      "Is Terminal:\t\t False\n",
      "Braid encoding length: 110\n",
      "Braid encoding: [0, 0, 0, 0, 0, 1, 0, 0, 0, 0, 0, 0, 0, 0, 0, 0, 1, 0, 0, 0, 0, 0, 0, 0, 0, 0, 0, 1, 0, 0, 0, 0, 0, 0, 0, 0, 0, 0, 1, 0, 0, 0, 0, 0, 0, 0, 0, 0, 0, 1, 0, 0, 0, 0, 0, 0, 0, 0, 0, 0, 1, 0, 0, 0, 0, 0, 0, 0, 0, 0, 0, 0, 1, 0, 0, 0, 0, 0, 0, 0, 0, 0, 0, 1, 0, 0, 0, 0, 0, 0, 0, 1, 0, 0, 0, 0, 0, 0, 0, 0, 0, 0, 0, 0, 0, 0, 1, 0, 0, 0]\n",
      "\n",
      "Component encoding length: 42\n",
      "Component encoding: [1, 0, 0, 0, 0, 0, 0, 0, 1, 0, 0, 0, 0, 0, 0, 0, 1, 0, 0, 0, 0, 0, 0, 0, 1, 0, 0, 0, 0, 0, 0, 0, 1, 0, 0, 0, 0, 0, 0, 0, 1, 0]\n",
      "\n",
      "Euler encoding length: 6\n",
      "Euler encoding: [0, 1, 1, 1, 1, 1]\n",
      "\n",
      "Cursor encoding length: 16\n",
      "Cursor encoding: [1, 0, 0, 0, 0, 0, 0, 0, 0, 0, 0, 0, 1, 0, 0, 0]]\n",
      "\n",
      "Full encoding length: 174\n",
      "Full encoding: [0, 0, 0, 0, 0, 1, 0, 0, 0, 0, 0, 0, 0, 0, 0, 0, 1, 0, 0, 0, 0, 0, 0, 0, 0, 0, 0, 1, 0, 0, 0, 0, 0, 0, 0, 0, 0, 0, 1, 0, 0, 0, 0, 0, 0, 0, 0, 0, 0, 1, 0, 0, 0, 0, 0, 0, 0, 0, 0, 0, 1, 0, 0, 0, 0, 0, 0, 0, 0, 0, 0, 0, 1, 0, 0, 0, 0, 0, 0, 0, 0, 0, 0, 1, 0, 0, 0, 0, 0, 0, 0, 1, 0, 0, 0, 0, 0, 0, 0, 0, 0, 0, 0, 0, 0, 0, 1, 0, 0, 0, 1, 0, 0, 0, 0, 0, 0, 0, 1, 0, 0, 0, 0, 0, 0, 0, 1, 0, 0, 0, 0, 0, 0, 0, 1, 0, 0, 0, 0, 0, 0, 0, 1, 0, 0, 0, 0, 0, 0, 0, 1, 0, 0, 1, 1, 1, 1, 1, 1, 0, 0, 0, 0, 0, 0, 0, 0, 0, 0, 0, 1, 0, 0, 0]\n",
      "\n",
      "====================================================================================================\n"
     ]
    }
   ],
   "source": [
    "encoded_state=braid.encode_state(display=True)"
   ]
  },
  {
   "cell_type": "code",
   "execution_count": 33,
   "metadata": {
    "collapsed": false
   },
   "outputs": [
    {
     "name": "stdout",
     "output_type": "stream",
     "text": [
      "(array([ 1,  1, -2,  2], dtype=int64), array([1, 2, 3, 4, 5, 6], dtype=int64), {1: 0, 2: 1, 3: 1, 4: 1, 5: 1, 6: 1}, array([0, 2], dtype=int64))\n"
     ]
    }
   ],
   "source": [
    "print(braid.inverse_encode_state(encoded_state))"
   ]
  },
  {
   "cell_type": "code",
   "execution_count": null,
   "metadata": {
    "collapsed": false
   },
   "outputs": [],
   "source": [
    "timeit.timeit(braid.old_encode_state, number=100000)"
   ]
  },
  {
   "cell_type": "code",
   "execution_count": null,
   "metadata": {
    "collapsed": false
   },
   "outputs": [],
   "source": [
    "timeit.timeit(braid.encode_state, number=100000)"
   ]
  },
  {
   "cell_type": "code",
   "execution_count": 15,
   "metadata": {
    "collapsed": false
   },
   "outputs": [],
   "source": [
    "seed_braids=[[1],\n",
    "             [1, 1],\n",
    "             [1, -1, 1],\n",
    "             [1, -2, 1, -2],\n",
    "             [1, 1, 1, 1, 1]] \n",
    "start_states_capacity=10000\n",
    "max_braid_index=6\n",
    "max_braid_length=10\n",
    "move_penalty=0.1\n",
    "starts_buffer=SSB(capacity=start_states_capacity,\n",
    "                  max_braid_index=max_braid_index,\n",
    "                  max_braid_length=max_braid_length,\n",
    "                  seed_braids=seed_braids,\n",
    "                  move_penalty=move_penalty)\n",
    "starts_buffer2=SSB2(capacity=start_states_capacity,\n",
    "                  max_braid_index=max_braid_index,\n",
    "                  max_braid_length=max_braid_length,\n",
    "                  seed_braids=seed_braids,\n",
    "                  move_penalty=move_penalty)"
   ]
  },
  {
   "cell_type": "code",
   "execution_count": 16,
   "metadata": {
    "collapsed": true
   },
   "outputs": [],
   "source": [
    "def wrapper(n_times=100000):\n",
    "    for i in range(n_times):\n",
    "        starts_buffer.add_state(braid)"
   ]
  },
  {
   "cell_type": "code",
   "execution_count": 23,
   "metadata": {
    "collapsed": false
   },
   "outputs": [
    {
     "name": "stdout",
     "output_type": "stream",
     "text": [
      "1 loop, best of 3: 7.69 s per loop\n"
     ]
    }
   ],
   "source": [
    "%timeit -n 1 wrapper(1000)"
   ]
  },
  {
   "cell_type": "code",
   "execution_count": null,
   "metadata": {
    "collapsed": true
   },
   "outputs": [],
   "source": [
    "def wrapper2(n_times=100000):\n",
    "    for i in range(n_times):\n",
    "        starts_buffer2.add_state(braid)"
   ]
  },
  {
   "cell_type": "code",
   "execution_count": 29,
   "metadata": {
    "collapsed": false
   },
   "outputs": [
    {
     "name": "stdout",
     "output_type": "stream",
     "text": [
      "1 loop, best of 3: 48.4 ms per loop\n"
     ]
    }
   ],
   "source": [
    "%timeit -n 1 wrapper2(1000)"
   ]
  },
  {
   "cell_type": "code",
   "execution_count": null,
   "metadata": {
    "collapsed": true
   },
   "outputs": [],
   "source": []
  }
 ],
 "metadata": {
  "kernelspec": {
   "display_name": "Python 3",
   "language": "python",
   "name": "python3"
  },
  "language_info": {
   "codemirror_mode": {
    "name": "ipython",
    "version": 3
   },
   "file_extension": ".py",
   "mimetype": "text/x-python",
   "name": "python",
   "nbconvert_exporter": "python",
   "pygments_lexer": "ipython3",
   "version": "3.6.0"
  }
 },
 "nbformat": 4,
 "nbformat_minor": 2
}
