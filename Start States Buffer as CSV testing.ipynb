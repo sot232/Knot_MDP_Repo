{
 "cells": [
  {
   "cell_type": "code",
   "execution_count": 5,
   "metadata": {
    "collapsed": false
   },
   "outputs": [],
   "source": [
    "import csv"
   ]
  },
  {
   "cell_type": "code",
   "execution_count": 9,
   "metadata": {
    "collapsed": false
   },
   "outputs": [],
   "source": [
    "f = open('test.csv', 'w')\n",
    "\n",
    "with f:\n",
    "    \n",
    "    fnames = ['Braid', 'Braid_Length', 'Components', 'Cursor', 'Eulerchar', 'Largest_Index']\n",
    "    writer = csv.DictWriter(f, fieldnames=fnames)    \n",
    "\n",
    "    writer.writeheader()\n",
    "    writer.writerow({'Braid': str([1, 1, 1]),\n",
    "                     'Braid_Length': str(3),\n",
    "                     'Components': str([1, 1, 2]),\n",
    "                     'Cursor': str([0, 1]),\n",
    "                     'Eulerchar': str({1: 0, 2: 1}),\n",
    "                     'Largest_Index': str(1)})"
   ]
  }
 ],
 "metadata": {
  "kernelspec": {
   "display_name": "Python 3",
   "language": "python",
   "name": "python3"
  },
  "language_info": {
   "codemirror_mode": {
    "name": "ipython",
    "version": 3
   },
   "file_extension": ".py",
   "mimetype": "text/x-python",
   "name": "python",
   "nbconvert_exporter": "python",
   "pygments_lexer": "ipython3",
   "version": "3.6.0"
  }
 },
 "nbformat": 4,
 "nbformat_minor": 2
}
